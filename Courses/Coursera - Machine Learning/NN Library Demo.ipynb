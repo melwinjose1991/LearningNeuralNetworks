{
 "cells": [
  {
   "cell_type": "code",
   "execution_count": 36,
   "metadata": {},
   "outputs": [],
   "source": [
    "import numpy as np"
   ]
  },
  {
   "cell_type": "code",
   "execution_count": 37,
   "metadata": {},
   "outputs": [],
   "source": [
    "def sigmoid(x):\n",
    "    return(1 / (1 + np.exp(-x)))\n",
    "\n",
    "def sigmoidPrime(x):\n",
    "    return(sigmoid(x)*(1-sigmoid(x)))\n",
    "\n",
    "def getActivationFunctionPrime(activation_fn):\n",
    "    if activation_fn == sigmoid:\n",
    "        return sigmoidPrime\n",
    "    else:\n",
    "        return None\n"
   ]
  },
  {
   "cell_type": "code",
   "execution_count": 38,
   "metadata": {},
   "outputs": [],
   "source": [
    "def cross_entropy(y_hat, y, reg=False, thetas=None):\n",
    "    '''\n",
    "        Args:\n",
    "            y_hat(np.ndarray) : predictions\n",
    "            y(np.ndarray) : acutal values\n",
    "            reg(python.Boolean) : to regularize or not\n",
    "            thetas(np.ndarray) : thetas to be regularized\n",
    "            \n",
    "        Returns:\n",
    "            J(float) : Cost\n",
    "    '''\n",
    "    m = y_hat.shape[0]\n",
    "    \n",
    "    J = - 1 * (1/m) * np.sum( ( np.log(y_hat)*(y) + np.log(1-y_hat)*(1-y) ) )\n",
    "\n",
    "    if reg:\n",
    "        J = J + (1/(2*m)) * ( np.sum(np.square(thetas)) )\n",
    "    \n",
    "    return J\n"
   ]
  },
  {
   "cell_type": "code",
   "execution_count": 39,
   "metadata": {},
   "outputs": [],
   "source": [
    "class Layer:\n",
    "    \n",
    "    def __init__(self, weights=None, activation_fn=None, add_bias_node=False):\n",
    "        '''\n",
    "            Args:\n",
    "                activation_fn(python.function) : activation function.\n",
    "                weights(np.ndarray) : weigths\n",
    "                add_bias_node(python.Boolean) : if bias node needs to be added. If True, a column of 1s are added\n",
    "                                                after the activation function is applied.\n",
    "        '''\n",
    "        self.weights = None\n",
    "        self.activation_fn = activation_fn\n",
    "        self.activation_fn_prime = getActivationFunctionPrime(self.activation_fn) \n",
    "        self.add_bias_node = add_bias_node\n",
    "        self.a = None\n",
    "        \n",
    "        if type(weights) is np.ndarray:\n",
    "            self.weights = weights\n",
    "        \n",
    "    \n",
    "    def forward(self, input):       \n",
    "        '''\n",
    "            Args:\n",
    "                input(np.array) : input or activations from previous layer.\n",
    "                \n",
    "            Returns:\n",
    "                a(np.array) : activation of this layer. [num samples x num of nodes in this layer]\n",
    "                              If add_bias_node is True, an extra column of 1s are added.\n",
    "        '''\n",
    "        print(\"\\tInput : \", input.shape)\n",
    "        \n",
    "        if self.activation_fn != None:\n",
    "            print(\"\\tweights :\", input.shape,\" X input.T:\", self.weights.T.shape)\n",
    "            z = input.dot(self.weights.T)\n",
    "            print(\"\\tZ : \", z.shape)\n",
    "            \n",
    "            a = self.activation_fn(z)\n",
    "            \n",
    "        else:\n",
    "            a = input\n",
    "            \n",
    "        if self.add_bias_node:\n",
    "            print(\"\\tAdding a column vector (\",a.shape[0],\"x1 ) to a\", a.shape)\n",
    "            a = np.c_[np.ones((a.shape[0],1)), a]\n",
    "        \n",
    "        print(\"\\tOuput : \", a.shape)\n",
    "        self.a = a\n",
    "        return a\n",
    "    \n",
    "    \n",
    "    def backward(self, input):\n",
    "        '''\n",
    "            Args:\n",
    "                input(np.array) : error or delta from the next layer.\n",
    "                \n",
    "            Returns:\n",
    "                \n",
    "        '''\n",
    "        d = weights[:,1:].T.dot(input.T) * self.activation_fn_prime(self.z)\n",
    "        return None\n",
    " "
   ]
  },
  {
   "cell_type": "code",
   "execution_count": 40,
   "metadata": {},
   "outputs": [],
   "source": [
    "class NeuralNetwork:\n",
    "    def __init__(self, cost_fn):\n",
    "        self.layers = []\n",
    "        self.cost_fn = cost_fn\n",
    "    \n",
    "    def add(self, layer):\n",
    "        self.layers.append(layer)\n",
    "        \n",
    "    def train(self, input, output):\n",
    "        # forward propagation\n",
    "        for idx, layer in enumerate(self.layers):\n",
    "            print(\"\\nLayer \", idx+1 )\n",
    "            input = layer.forward(input)\n",
    "        \n",
    "        y_hat = input\n",
    "        print(\"\\nPredictions\\n\", y_hat[0,:])\n",
    "        \n",
    "        # calculate cost\n",
    "        cost = self.cost_fn(y_hat, output, reg=0)\n",
    "        print(\"\\nCost : \", cost)\n",
    "        \n",
    "        # TODO: backward propagation\n"
   ]
  },
  {
   "cell_type": "code",
   "execution_count": 41,
   "metadata": {},
   "outputs": [
    {
     "name": "stdout",
     "output_type": "stream",
     "text": [
      "y.shape =  (5000, 10)\n",
      "X.shape :  (5000, 400)\n"
     ]
    },
    {
     "name": "stderr",
     "output_type": "stream",
     "text": [
      "C:\\Users\\USMEJOS\\Downloads\\Anaconda3\\envs\\tensorflow\\lib\\site-packages\\ipykernel_launcher.py:7: FutureWarning: Method .as_matrix will be removed in a future version. Use .values instead.\n",
      "  import sys\n"
     ]
    }
   ],
   "source": [
    "from scipy.io import loadmat\n",
    "import pandas as pd\n",
    "\n",
    "data = loadmat('data/ex4data1.mat')\n",
    "\n",
    "y = data['y']\n",
    "y = pd.get_dummies(y.ravel()).as_matrix() \n",
    "print('y.shape = ',y.shape)\n",
    "\n",
    "X = data['X']\n",
    "print('X.shape : ', X.shape)"
   ]
  },
  {
   "cell_type": "code",
   "execution_count": 42,
   "metadata": {},
   "outputs": [
    {
     "name": "stdout",
     "output_type": "stream",
     "text": [
      "theta1 : (25, 401)\n",
      "theta2 : (10, 26)\n",
      "params : (10285,)\n"
     ]
    }
   ],
   "source": [
    "weights = loadmat('data/ex4weights.mat')\n",
    "theta1, theta2 = weights['Theta1'], weights['Theta2']\n",
    "print('theta1 :', theta1.shape)                             # Input size : 401 including bias\n",
    "                                                            # Num of hidden units : 10\n",
    "print('theta2 :', theta2.shape)                             # Num of lables : 10\n",
    "params = np.r_[theta1.ravel(), theta2.ravel()]\n",
    "print('params :', params.shape)"
   ]
  },
  {
   "cell_type": "code",
   "execution_count": 43,
   "metadata": {},
   "outputs": [
    {
     "name": "stdout",
     "output_type": "stream",
     "text": [
      "\n",
      "Layer  1\n",
      "\tInput :  (5000, 400)\n",
      "\tAdding a column vector ( 5000 x1 ) to a (5000, 400)\n",
      "\tOuput :  (5000, 401)\n",
      "\n",
      "Layer  2\n",
      "\tInput :  (5000, 401)\n",
      "\tweights : (5000, 401)  X input.T: (401, 25)\n",
      "\tZ :  (5000, 25)\n",
      "\tAdding a column vector ( 5000 x1 ) to a (5000, 25)\n",
      "\tOuput :  (5000, 26)\n",
      "\n",
      "Layer  3\n",
      "\tInput :  (5000, 26)\n",
      "\tweights : (5000, 26)  X input.T: (26, 10)\n",
      "\tZ :  (5000, 10)\n",
      "\tOuput :  (5000, 10)\n",
      "\n",
      "Predictions\n",
      " [1.12661530e-04 1.74127856e-03 2.52696959e-03 1.84032321e-05\n",
      " 9.36263860e-03 3.99270267e-03 5.51517524e-03 4.01468105e-04\n",
      " 6.48072305e-03 9.95734012e-01]\n",
      "\n",
      "Cost :  0.2876291651613189\n"
     ]
    }
   ],
   "source": [
    "nn = NeuralNetwork(cost_fn=cross_entropy)\n",
    "input_layer = Layer(activation_fn=None, add_bias_node=True)\n",
    "hidden_layer = Layer(activation_fn=sigmoid, weights=theta1, add_bias_node=True)\n",
    "output_layer = Layer(activation_fn=sigmoid, weights=theta2, add_bias_node=False)\n",
    "\n",
    "nn.add(input_layer)\n",
    "nn.add(hidden_layer)\n",
    "nn.add(output_layer)\n",
    "nn.train(X, y)"
   ]
  },
  {
   "cell_type": "code",
   "execution_count": null,
   "metadata": {},
   "outputs": [],
   "source": []
  }
 ],
 "metadata": {
  "kernelspec": {
   "display_name": "TF1.8",
   "language": "python",
   "name": "tf18"
  },
  "language_info": {
   "codemirror_mode": {
    "name": "ipython",
    "version": 3
   },
   "file_extension": ".py",
   "mimetype": "text/x-python",
   "name": "python",
   "nbconvert_exporter": "python",
   "pygments_lexer": "ipython3",
   "version": "3.6.8"
  }
 },
 "nbformat": 4,
 "nbformat_minor": 2
}
