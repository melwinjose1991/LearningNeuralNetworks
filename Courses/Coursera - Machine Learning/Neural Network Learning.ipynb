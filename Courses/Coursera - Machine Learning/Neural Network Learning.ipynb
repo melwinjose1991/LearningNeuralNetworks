{
 "cells": [
  {
   "cell_type": "code",
   "execution_count": 28,
   "metadata": {},
   "outputs": [],
   "source": [
    "import pandas as pd\n",
    "import numpy as np\n",
    "import matplotlib as mpl\n",
    "import matplotlib.pyplot as plt\n",
    "\n",
    "from scipy.io import loadmat"
   ]
  },
  {
   "cell_type": "markdown",
   "metadata": {},
   "source": [
    "## Loading Data"
   ]
  },
  {
   "cell_type": "code",
   "execution_count": 29,
   "metadata": {},
   "outputs": [
    {
     "name": "stdout",
     "output_type": "stream",
     "text": [
      "y.shape =  (5000, 1)\n",
      "X.shape :  (5000, 400)\n",
      "X.shape :  (5000, 401)  intercept added.\n"
     ]
    }
   ],
   "source": [
    "data = loadmat('data/ex4data1.mat')\n",
    "\n",
    "y = data['y']\n",
    "print('y.shape = ',y.shape)\n",
    "\n",
    "# Add intercept\n",
    "X = data['X']\n",
    "print('X.shape : ', X.shape)\n",
    "X = np.c_[np.ones((data['X'].shape[0],1)), data['X']]\n",
    "print('X.shape : ', X.shape, ' intercept added.')"
   ]
  },
  {
   "cell_type": "code",
   "execution_count": 30,
   "metadata": {},
   "outputs": [
    {
     "name": "stdout",
     "output_type": "stream",
     "text": [
      "theta1 : (25, 401)\n",
      "theta2 : (10, 26)\n",
      "params : (10285,)\n"
     ]
    }
   ],
   "source": [
    "weights = loadmat('data/ex4weights.mat')\n",
    "theta1, theta2 = weights['Theta1'], weights['Theta2']\n",
    "print('theta1 :', theta1.shape)                             # Input size : 401 including bias\n",
    "                                                            # Num of hidden units : 10\n",
    "print('theta2 :', theta2.shape)                             # Num of lables : 10\n",
    "params = np.r_[theta1.ravel(), theta2.ravel()]\n",
    "print('params :', params.shape)"
   ]
  },
  {
   "cell_type": "markdown",
   "metadata": {},
   "source": [
    "## Activation Function"
   ]
  },
  {
   "cell_type": "code",
   "execution_count": 31,
   "metadata": {},
   "outputs": [],
   "source": [
    "def sigmoid(z):\n",
    "    return(1 / (1 + np.exp(-z)))\n",
    "\n",
    "def sigmoidGradient(z):\n",
    "    return(sigmoid(z)*(1-sigmoid(z)))"
   ]
  },
  {
   "cell_type": "markdown",
   "metadata": {},
   "source": [
    "## Cost Function & Gradient"
   ]
  },
  {
   "cell_type": "code",
   "execution_count": 32,
   "metadata": {},
   "outputs": [],
   "source": [
    "def nnCostFunction(nn_params, input_layer_size, hidden_layer_size, num_labels, features, classes, reg):\n",
    "    \n",
    "    theta1 = nn_params[0:(hidden_layer_size*(input_layer_size+1))].reshape(hidden_layer_size,(input_layer_size+1))\n",
    "    # 25 x 401\n",
    "    theta2 = nn_params[(hidden_layer_size*(input_layer_size+1)):].reshape(num_labels,(hidden_layer_size+1))\n",
    "    # 10 x 26 \n",
    "    \n",
    "    m = features.shape[0]\n",
    "    y_matrix = pd.get_dummies(classes.ravel()).as_matrix() \n",
    "    \n",
    "    \n",
    "    ## Cost\n",
    "    a1 = features                                                 # 5000 x 401\n",
    "        \n",
    "    z2 = theta1.dot(a1.T)                                         # 25x401 * 401x5000 = 25 x 5000 \n",
    "    a2 = np.c_[np.ones((features.shape[0],1)),sigmoid(z2.T)]      # 5000 x 26 \n",
    "    \n",
    "    z3 = theta2.dot(a2.T)                                         # 10x26 * 26x5000 = 10 x 5000 \n",
    "    a3 = sigmoid(z3)                                              # 10 x 5000\n",
    "    print(a3.T[1000,:])\n",
    "    \n",
    "    J = - 1 * (1/m) * np.sum( ( np.log(a3.T)*(y_matrix) + np.log(1-a3).T*(1-y_matrix) ) ) + \\\n",
    "        (reg/(2*m)) * ( np.sum(np.square(theta1[:,1:])) + np.sum(np.square(theta2[:,1:])) )\n",
    "\n",
    "    \n",
    "    ## Gradients\n",
    "    d3 = a3.T - y_matrix                                         # 5000 x 10\n",
    "    d2 = theta2[:,1:].T.dot(d3.T)*sigmoidGradient(z2)            # 25x10 *10x5000 * 25x5000 = 25 x 5000\n",
    "    \n",
    "    delta1 = d2.dot(a1)                                          # 25x5000 * 5000x401 = 25 x 401\n",
    "    delta2 = d3.T.dot(a2)                                        # 10x5000 *5000x26 = 10 x 26\n",
    "    \n",
    "    theta1_ = np.c_[np.ones((theta1.shape[0],1)),theta1[:,1:]]\n",
    "    theta2_ = np.c_[np.ones((theta2.shape[0],1)),theta2[:,1:]]\n",
    "    \n",
    "    theta1_grad = delta1/m + (theta1_*reg)/m\n",
    "    theta2_grad = delta2/m + (theta2_*reg)/m\n",
    "    \n",
    "    return(J, theta1_grad, theta2_grad)\n"
   ]
  },
  {
   "cell_type": "code",
   "execution_count": 33,
   "metadata": {},
   "outputs": [
    {
     "name": "stdout",
     "output_type": "stream",
     "text": [
      "[3.85613838e-04 9.68544083e-01 1.92134752e-03 1.38526834e-04\n",
      " 3.20810992e-03 7.01713717e-04 6.45235792e-04 1.66993752e-02\n",
      " 1.00700486e-01 3.25396474e-03]\n"
     ]
    },
    {
     "name": "stderr",
     "output_type": "stream",
     "text": [
      "C:\\Users\\USMEJOS\\Downloads\\Anaconda3\\envs\\tensorflow\\lib\\site-packages\\ipykernel_launcher.py:9: FutureWarning: Method .as_matrix will be removed in a future version. Use .values instead.\n",
      "  if __name__ == '__main__':\n"
     ]
    },
    {
     "data": {
      "text/plain": [
       "0.2876291651613189"
      ]
     },
     "execution_count": 33,
     "metadata": {},
     "output_type": "execute_result"
    }
   ],
   "source": [
    "input_layer_size = 400\n",
    "hidden_layer_size = 25\n",
    "num_labels = 10\n",
    "features = X\n",
    "classes = y\n",
    "reg = 0\n",
    "nnCostFunction(params, input_layer_size, hidden_layer_size, num_labels, X, y, reg)[0]"
   ]
  },
  {
   "cell_type": "code",
   "execution_count": 34,
   "metadata": {},
   "outputs": [
    {
     "data": {
      "text/plain": [
       "(10285,)"
      ]
     },
     "execution_count": 34,
     "metadata": {},
     "output_type": "execute_result"
    }
   ],
   "source": [
    "params.shape"
   ]
  },
  {
   "cell_type": "code",
   "execution_count": null,
   "metadata": {},
   "outputs": [],
   "source": []
  }
 ],
 "metadata": {
  "kernelspec": {
   "display_name": "TF1.8",
   "language": "python",
   "name": "tf18"
  },
  "language_info": {
   "codemirror_mode": {
    "name": "ipython",
    "version": 3
   },
   "file_extension": ".py",
   "mimetype": "text/x-python",
   "name": "python",
   "nbconvert_exporter": "python",
   "pygments_lexer": "ipython3",
   "version": "3.6.8"
  }
 },
 "nbformat": 4,
 "nbformat_minor": 2
}
