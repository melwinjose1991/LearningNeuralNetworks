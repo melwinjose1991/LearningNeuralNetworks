{
 "cells": [
  {
   "cell_type": "code",
   "execution_count": 3,
   "metadata": {},
   "outputs": [],
   "source": [
    "# Neural Networks Demystified [Part 4: Backpropagation]\n",
    "import numpy as np"
   ]
  },
  {
   "cell_type": "code",
   "execution_count": 4,
   "metadata": {},
   "outputs": [],
   "source": [
    "# X = (hours sleeping, hours studying)\n",
    "X = np.array(([3,5], [5,1], [10,2]), dtype=float)\n",
    "# y = Score on test\n",
    "y = np.array(([75], [82], [93]), dtype=float)\n",
    "\n",
    "# Normalize\n",
    "X = X/np.amax(X, axis=0)\n",
    "y = y/100                              # Max test score is 100"
   ]
  },
  {
   "cell_type": "code",
   "execution_count": 5,
   "metadata": {},
   "outputs": [],
   "source": [
    "class Neural_Network(object):\n",
    "    \n",
    "    def __init__(self):        \n",
    "        #Define Hyperparameters\n",
    "        \n",
    "        self.inputLayerSize = 2        # n0 - input dimension OR #weights for each \n",
    "                                       #      neuron in the first hidden layer OR \n",
    "                                       #      #neurons in input layer\n",
    "        self.hiddenLayerSize = 3       # n1 - #neurons in hidden layer\n",
    "        self.outputLayerSize = 1       # n2 - #neurons in output layer or output dimension\n",
    "        \n",
    "        #Weights (parameters)\n",
    "        self.W1 = np.random.randn(self.inputLayerSize, self.hiddenLayerSize)\n",
    "        self.W2 = np.random.randn(self.hiddenLayerSize, self.outputLayerSize)\n",
    "        \n",
    "        \n",
    "    def forward(self, X):\n",
    "        # Propagate inputs though network\n",
    "        \n",
    "        ### Layer 1 (Input Layer)\n",
    "        # X[m x n0]                    # m - number of samples\n",
    "        \n",
    "        \n",
    "        ### Layer 2 (1st hidden layer)\n",
    "        self.z2 = np.dot(X, self.W1)           \n",
    "        # z2[m x n1] = X[m x n0] * W1[n0 x n1]        Eqn(1)\n",
    "        \n",
    "        self.a2 = self.sigmoid(self.z2)        \n",
    "        # a2[m x n1]                                  Eqn(2)\n",
    "        \n",
    "        \n",
    "        ### Layer 3 (Output Layer)\n",
    "        self.z3 = np.dot(self.a2, self.W2)     \n",
    "        # z3[m x n2] = a2[m x n1] * W2[n1 x n2]       Eqn(3)\n",
    "        \n",
    "        yHat = self.sigmoid(self.z3)           \n",
    "        # yHat[m x n2]                                Eqn(4)\n",
    "        \n",
    "        return yHat\n",
    "        \n",
    "        \n",
    "    def sigmoid(self, z):\n",
    "        # Apply sigmoid activation function to scalar, vector, or matrix\n",
    "        return 1 / ( 1 + np.exp(-z) )\n",
    "\n",
    "    \n",
    "    def sigmoidPrime(self,z):\n",
    "        # Gradient of sigmoid\n",
    "        return np.exp(-z) / ( ( 1 + np.exp(-z) )**2 )\n",
    "    \n",
    "    \n",
    "    def costFunction(self, X, y):\n",
    "        # Compute cost for given X,y, use weights already stored in class.\n",
    "        self.yHat = self.forward(X)\n",
    "        J = 0.5 * sum( ( y - self.yHat )**2 )\n",
    "        return J\n",
    "        \n",
    "        \n",
    "    def costFunctionPrime(self, X, y):\n",
    "        # Compute derivative with respect to W and W2 for a given X and y:\n",
    "        self.yHat = self.forward(X)\n",
    "        # yHat[m x 1]\n",
    "        \n",
    "        delta3 = np.multiply(-(y-self.yHat), self.sigmoidPrime(self.z3))\n",
    "        # delta3[mx1] = [m x 1] * [m x 1]  element-wise multiplication\n",
    "        dJdW2 = np.dot(self.a2.T, delta3)\n",
    "        # dJdW2[n1x1] = [n1 x m] . [mx1]   matrix multiplication  \n",
    "        \n",
    "        delta2 = np.dot(delta3, self.W2.T) * self.sigmoidPrime(self.z2)\n",
    "        dJdW1 = np.dot(X.T, delta2)  \n",
    "        \n",
    "        return dJdW1, dJdW2\n",
    "    \n",
    "    \n",
    "    ## Helper Functions for interacting with other classes:\n",
    "    def getParams(self):\n",
    "        ## Get W1 and W2 unrolled into vector:\n",
    "        params = np.concatenate((self.W1.ravel(), self.W2.ravel()))\n",
    "        return params\n",
    "    \n",
    "    \n",
    "    def setParams(self, params):\n",
    "        ## Set W1 and W2 using single params vector.\n",
    "        W1_start = 0\n",
    "        W1_end = self.hiddenLayerSize * self.inputLayerSize\n",
    "        self.W1 = np.reshape(params[W1_start:W1_end], (self.inputLayerSize , self.hiddenLayerSize))\n",
    "        \n",
    "        W2_end = W1_end + self.hiddenLayerSize * self.outputLayerSize\n",
    "        self.W2 = np.reshape(params[W1_end:W2_end], (self.hiddenLayerSize, self.outputLayerSize))\n",
    "        \n",
    "        \n",
    "    def computeGradients(self, X, y):\n",
    "        dJdW1, dJdW2 = self.costFunctionPrime(X, y)\n",
    "        return np.concatenate((dJdW1.ravel(), dJdW2.ravel()))\n",
    "    \n",
    "\n",
    "\n",
    "def computeNumericalGradient(N, X, y):\n",
    "        paramsInitial = N.getParams()\n",
    "        numgrad = np.zeros(paramsInitial.shape)\n",
    "        perturb = np.zeros(paramsInitial.shape)\n",
    "        e = 1e-4\n",
    "\n",
    "        for p in range(len(paramsInitial)):\n",
    "            # Set perturbation vector. Changes only a single\n",
    "            # parameter at a time. \n",
    "            perturb[p] = e\n",
    "            \n",
    "            N.setParams(paramsInitial + perturb)\n",
    "            loss2 = N.costFunction(X, y)\n",
    "            \n",
    "            N.setParams(paramsInitial - perturb)\n",
    "            loss1 = N.costFunction(X, y)\n",
    "\n",
    "            # Compute Numerical Gradient\n",
    "            numgrad[p] = (loss2 - loss1) / (2*e)\n",
    "\n",
    "            # Return the value we changed to zero:\n",
    "            perturb[p] = 0\n",
    "            \n",
    "        # Return Params to original value:\n",
    "        N.setParams(paramsInitial)\n",
    "\n",
    "        return numgrad \n",
    "        "
   ]
  },
  {
   "cell_type": "code",
   "execution_count": 6,
   "metadata": {},
   "outputs": [],
   "source": [
    "NN = Neural_Network()\n",
    "cost1 = NN.costFunction(X,y)\n",
    "dJdW1, dJdW2 = NN.costFunctionPrime(X,y)"
   ]
  },
  {
   "cell_type": "code",
   "execution_count": 7,
   "metadata": {},
   "outputs": [
    {
     "data": {
      "text/plain": [
       "array([[-0.01551253,  0.01012455,  0.10583073],\n",
       "       [-0.01129524,  0.007365  ,  0.05792022]])"
      ]
     },
     "execution_count": 7,
     "metadata": {},
     "output_type": "execute_result"
    }
   ],
   "source": [
    "## Direction for W1\n",
    "dJdW1"
   ]
  },
  {
   "cell_type": "code",
   "execution_count": 8,
   "metadata": {},
   "outputs": [
    {
     "data": {
      "text/plain": [
       "array([[-0.153777  ],\n",
       "       [-0.18518784],\n",
       "       [-0.13102407]])"
      ]
     },
     "execution_count": 8,
     "metadata": {},
     "output_type": "execute_result"
    }
   ],
   "source": [
    "## Direction for W2\n",
    "dJdW2"
   ]
  },
  {
   "cell_type": "code",
   "execution_count": 14,
   "metadata": {},
   "outputs": [
    {
     "name": "stdout",
     "output_type": "stream",
     "text": [
      "Initial cost :  [0.45669923] . Cost after taking a step up hill :  [0.70267469]\n"
     ]
    }
   ],
   "source": [
    "## Going up hill\n",
    "scalar = 3\n",
    "NN.W1 = NN.W1 + scalar*dJdW1\n",
    "NN.W2 = NN.W2 + scalar*dJdW2\n",
    "cost2 = NN.costFunction(X,y)\n",
    "print(\"Initial cost : \", cost1, \". Cost after taking a step up hill : \", cost2)"
   ]
  },
  {
   "cell_type": "code",
   "execution_count": 15,
   "metadata": {},
   "outputs": [
    {
     "name": "stdout",
     "output_type": "stream",
     "text": [
      "Initial cost :  [0.45669923] . Cost after taking a step down hill :  [0.5160258]\n"
     ]
    }
   ],
   "source": [
    "## Going down hill - This is what gets executed inside the training loop for 'n' epochs\n",
    "dJdW1, dJdW2 = NN.costFunctionPrime(X,y)\n",
    "NN.W1 = NN.W1 - scalar*dJdW1\n",
    "NN.W2 = NN.W2 - scalar*dJdW2\n",
    "cost3 = NN.costFunction(X, y)\n",
    "print(\"Initial cost : \", cost1, \". Cost after taking a step down hill : \", cost3)"
   ]
  },
  {
   "cell_type": "code",
   "execution_count": 13,
   "metadata": {},
   "outputs": [
    {
     "name": "stdout",
     "output_type": "stream",
     "text": [
      "[-0.00886673  0.01497642  0.10311054 -0.00679799  0.01159261  0.05904691\n",
      " -0.14385292 -0.17673359 -0.12768571]\n",
      "[-0.00886673  0.01497642  0.10311054 -0.00679799  0.01159261  0.05904691\n",
      " -0.14385292 -0.17673359 -0.12768571]\n"
     ]
    }
   ],
   "source": [
    "## Checking gradient numerically\n",
    "num_grad = computeNumericalGradient(NN, X, y)\n",
    "grad = NN.computeGradients(X, y)\n",
    "print(num_grad)\n",
    "print(grad)"
   ]
  },
  {
   "cell_type": "code",
   "execution_count": null,
   "metadata": {},
   "outputs": [],
   "source": []
  }
 ],
 "metadata": {
  "kernelspec": {
   "display_name": "TF1.8",
   "language": "python",
   "name": "tf18"
  },
  "language_info": {
   "codemirror_mode": {
    "name": "ipython",
    "version": 3
   },
   "file_extension": ".py",
   "mimetype": "text/x-python",
   "name": "python",
   "nbconvert_exporter": "python",
   "pygments_lexer": "ipython3",
   "version": "3.6.8"
  }
 },
 "nbformat": 4,
 "nbformat_minor": 2
}
