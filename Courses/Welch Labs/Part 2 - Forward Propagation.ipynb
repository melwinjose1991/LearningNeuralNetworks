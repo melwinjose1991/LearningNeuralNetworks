{
 "cells": [
  {
   "cell_type": "code",
   "execution_count": 1,
   "metadata": {},
   "outputs": [],
   "source": [
    "# Neural Networks Demystified [Part 2: Forward Propagation]\n",
    "import numpy as np"
   ]
  },
  {
   "cell_type": "code",
   "execution_count": 2,
   "metadata": {},
   "outputs": [],
   "source": [
    "class Neural_Network(object):\n",
    "    \n",
    "    def __init__(self):        \n",
    "        #Define Hyperparameters\n",
    "        \n",
    "        self.inputLayerSize = 2        # n0 - input dimension OR #weights for each \n",
    "                                       #      neuron in the first hidden layer OR \n",
    "                                       #      #neurons in input layer\n",
    "        self.hiddenLayerSize = 3       # n1 - #neurons in hidden layer\n",
    "        self.outputLayerSize = 1       # n2 - #neurons in output layer or output dimension\n",
    "        \n",
    "        #Weights (parameters)\n",
    "        self.W1 = np.random.randn(self.inputLayerSize, self.hiddenLayerSize)\n",
    "        self.W2 = np.random.randn(self.hiddenLayerSize, self.outputLayerSize)\n",
    "        \n",
    "        \n",
    "    def forward(self, X):\n",
    "        # Propagate inputs though network\n",
    "        \n",
    "        ### Layer 1 (Input Layer)\n",
    "        # X[m x n0]                    # m - number of samples\n",
    "        \n",
    "        \n",
    "        ### Layer 2 (1st hidden layer)\n",
    "        self.z2 = np.dot(X, self.W1)           \n",
    "        # z2[m x n1] = X[m x n0] * W1[n0 x n1]        Eqn(1)\n",
    "        \n",
    "        self.a2 = self.sigmoid(self.z2)        \n",
    "        # a2[m x n1]                                  Eqn(2)\n",
    "        \n",
    "        \n",
    "        ### Layer 3 (Output Layer)\n",
    "        self.z3 = np.dot(self.a2, self.W2)     \n",
    "        # z3[m x n2] = a2[m x n1] * W2[n1 x n2]       Eqn(3)\n",
    "        \n",
    "        yHat = self.sigmoid(self.z3)           \n",
    "        # yHat[m x n2]                                Eqn(4)\n",
    "        \n",
    "        return yHat\n",
    "        \n",
    "        \n",
    "    def sigmoid(self, z):\n",
    "        #Apply sigmoid activation function to scalar, vector, or matrix\n",
    "        \n",
    "        return 1 / (1+np.exp(-z))\n",
    "\n"
   ]
  },
  {
   "cell_type": "code",
   "execution_count": null,
   "metadata": {},
   "outputs": [],
   "source": []
  }
 ],
 "metadata": {
  "kernelspec": {
   "display_name": "TF1.8",
   "language": "python",
   "name": "tf18"
  },
  "language_info": {
   "codemirror_mode": {
    "name": "ipython",
    "version": 3
   },
   "file_extension": ".py",
   "mimetype": "text/x-python",
   "name": "python",
   "nbconvert_exporter": "python",
   "pygments_lexer": "ipython3",
   "version": "3.6.8"
  }
 },
 "nbformat": 4,
 "nbformat_minor": 2
}
